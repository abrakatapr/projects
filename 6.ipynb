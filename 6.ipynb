{
 "cells": [
  {
   "cell_type": "markdown",
   "metadata": {},
   "source": [
    "<div style=\"border:solid purple 2px; padding: 20px\"> \n",
    "\n",
    "Привет Иван! 👋\n",
    "\n",
    "Меня зовут Рустам Муртазин, и я буду делать ревью твоей работы. Давай будем общаться на **«ты»**. Если это неприемлемо, обязательно напиши мне в комментариях — мы перейдем на **«вы»**.\n",
    "\n",
    "Я не хочу указавать тебе на совершенные тобою ошибки, а хочу поделиться своим опытом и помочь тебе стать настоящим профессионалом и сделать проект еще лучше.\n",
    "\n",
    "Обрати внимание в первую очередь на те, что помечаны <span style=\"color:red\">красным цветом</span>. После их доработки проект будет принят. <span style=\"color:green\">Зеленым цветом</span> отмечены удачные и элегантные решения, на которые можно опираться в будущих проектах. <span style=\"color:orange\">Оранжевым цветом</span> выделено то, что в следующий раз можно сделать по-другому. Ты можешь учесть эти комментарии при выполнении будущих заданий или доработать проект сейчас (однако это не обязательно). Также в проекте могут быть небольшие «лайфхаки» по Python, не относящиеся к проекту, их я выделил фиолетовым цветом)\n",
    "\n",
    "Давай работать над проектом в диалоге: если ты **что-то меняешь** в проекте по моим рекомендациям — **пиши об этом**. Выбери для своих комментариев какой-то заметный цвет, так мне будет легче отследить изменения. Пожалуйста, **не перемещай, не изменяй и не удаляй мои комментарии**. Всё это поможет выполнить повторную проверку твоего проекта оперативнее».\n",
    "\n",
    "По проекту есть пару замечаний, но их не много, я думаю ты быстро справишься. Жду твою работу на повторное ревью :)\n"
   ]
  },
  {
   "cell_type": "markdown",
   "metadata": {},
   "source": [
    "<div class=\"alert alert-success\">\n",
    "<h2> Комментарий ревьюера v3 ✔️ <a class=\"tocSkip\"> </h2>\n",
    "\n",
    "Спасибо за твое терпение! Все моменты были исправлены, поэтому работу я принимаю. Впереди много интересного, желаю успехов 😉\n",
    "    \n",
    "</div>"
   ]
  },
  {
   "cell_type": "markdown",
   "metadata": {},
   "source": [
    "# Выбор локации для скважины"
   ]
  },
  {
   "cell_type": "markdown",
   "metadata": {},
   "source": [
    "Допустим, вы работаете в добывающей компании «ГлавРосГосНефть». Нужно решить, где бурить новую скважину.\n",
    "\n",
    "Вам предоставлены пробы нефти в трёх регионах: в каждом 10 000 месторождений, где измерили качество нефти и объём её запасов. Постройте модель машинного обучения, которая поможет определить регион, где добыча принесёт наибольшую прибыль. Проанализируйте возможную прибыль и риски техникой *Bootstrap.*\n",
    "\n",
    "Шаги для выбора локации:\n",
    "\n",
    "- В избранном регионе ищут месторождения, для каждого определяют значения признаков;\n",
    "- Строят модель и оценивают объём запасов;\n",
    "- Выбирают месторождения с самым высокими оценками значений. Количество месторождений зависит от бюджета компании и стоимости разработки одной скважины;\n",
    "- Прибыль равна суммарной прибыли отобранных месторождений."
   ]
  },
  {
   "cell_type": "code",
   "execution_count": 1,
   "metadata": {},
   "outputs": [],
   "source": [
    "import pandas as pd\n",
    "pd.options.mode.chained_assignment = None\n",
    "import numpy as np\n",
    "from sklearn.ensemble import RandomForestRegressor\n",
    "from sklearn.model_selection import train_test_split\n",
    "from sklearn.linear_model import LinearRegression\n",
    "from sklearn.preprocessing import StandardScaler\n",
    "from sklearn.metrics import mean_squared_error\n",
    "pd.set_option('display.max_columns', None)\n",
    "from scipy.stats import t"
   ]
  },
  {
   "cell_type": "markdown",
   "metadata": {},
   "source": [
    "<div style=\"border:solid purple 5px; padding: 20px\"> \n",
    "<h2 align=\"center\"> Рубрика «Питонячий лайфхакер» <a class=\"tocSkip\"> </h2>\n",
    "\n",
    "<h3> Широкоформатный Jupyter <a class=\"tocSkip\"> </h3>\n",
    "\n",
    "Расширяем границы, или как сделать работу более комфортной (не всем нравится 😄)\n",
    "\n",
    "    from IPython.core.display import display, HTML\n",
    "    display(HTML(\"<style>.container { width:90% !important; }</style>\"))"
   ]
  },
  {
   "cell_type": "markdown",
   "metadata": {},
   "source": [
    "## Загрузка и подготовка данных"
   ]
  },
  {
   "cell_type": "code",
   "execution_count": 2,
   "metadata": {},
   "outputs": [],
   "source": [
    "try:\n",
    "    data_0 = pd.read_csv('geo_data_0.csv')\n",
    "except:\n",
    "    data_0 = pd.read_csv('/datasets/geo_data_0.csv')"
   ]
  },
  {
   "cell_type": "markdown",
   "metadata": {},
   "source": [
    "<div class=\"alert alert-success\">\n",
    "<h2> Комментарий ревьюера ✔️ <a class=\"tocSkip\"> </h2>\n",
    "\n",
    "Здорово, что ты используешь конструкцию `try-except`, это повышает отказоустойчивость кода\n",
    "\n",
    "</div>\n"
   ]
  },
  {
   "cell_type": "code",
   "execution_count": 3,
   "metadata": {},
   "outputs": [],
   "source": [
    "try:\n",
    "    data_1 = pd.read_csv('geo_data_1.csv')\n",
    "except:\n",
    "    data_1 = pd.read_csv('/datasets/geo_data_1.csv')"
   ]
  },
  {
   "cell_type": "code",
   "execution_count": 4,
   "metadata": {},
   "outputs": [],
   "source": [
    "try:\n",
    "    data_2 = pd.read_csv('geo_data_2.csv')\n",
    "except:\n",
    "    data_2 = pd.read_csv('/datasets/geo_data_2.csv')"
   ]
  },
  {
   "cell_type": "code",
   "execution_count": 5,
   "metadata": {},
   "outputs": [
    {
     "data": {
      "text/html": [
       "<div>\n",
       "<style scoped>\n",
       "    .dataframe tbody tr th:only-of-type {\n",
       "        vertical-align: middle;\n",
       "    }\n",
       "\n",
       "    .dataframe tbody tr th {\n",
       "        vertical-align: top;\n",
       "    }\n",
       "\n",
       "    .dataframe thead th {\n",
       "        text-align: right;\n",
       "    }\n",
       "</style>\n",
       "<table border=\"1\" class=\"dataframe\">\n",
       "  <thead>\n",
       "    <tr style=\"text-align: right;\">\n",
       "      <th></th>\n",
       "      <th>id</th>\n",
       "      <th>f0</th>\n",
       "      <th>f1</th>\n",
       "      <th>f2</th>\n",
       "      <th>product</th>\n",
       "    </tr>\n",
       "  </thead>\n",
       "  <tbody>\n",
       "    <tr>\n",
       "      <th>0</th>\n",
       "      <td>txEyH</td>\n",
       "      <td>0.705745</td>\n",
       "      <td>-0.497823</td>\n",
       "      <td>1.221170</td>\n",
       "      <td>105.280062</td>\n",
       "    </tr>\n",
       "    <tr>\n",
       "      <th>1</th>\n",
       "      <td>2acmU</td>\n",
       "      <td>1.334711</td>\n",
       "      <td>-0.340164</td>\n",
       "      <td>4.365080</td>\n",
       "      <td>73.037750</td>\n",
       "    </tr>\n",
       "    <tr>\n",
       "      <th>2</th>\n",
       "      <td>409Wp</td>\n",
       "      <td>1.022732</td>\n",
       "      <td>0.151990</td>\n",
       "      <td>1.419926</td>\n",
       "      <td>85.265647</td>\n",
       "    </tr>\n",
       "    <tr>\n",
       "      <th>3</th>\n",
       "      <td>iJLyR</td>\n",
       "      <td>-0.032172</td>\n",
       "      <td>0.139033</td>\n",
       "      <td>2.978566</td>\n",
       "      <td>168.620776</td>\n",
       "    </tr>\n",
       "    <tr>\n",
       "      <th>4</th>\n",
       "      <td>Xdl7t</td>\n",
       "      <td>1.988431</td>\n",
       "      <td>0.155413</td>\n",
       "      <td>4.751769</td>\n",
       "      <td>154.036647</td>\n",
       "    </tr>\n",
       "  </tbody>\n",
       "</table>\n",
       "</div>"
      ],
      "text/plain": [
       "      id        f0        f1        f2     product\n",
       "0  txEyH  0.705745 -0.497823  1.221170  105.280062\n",
       "1  2acmU  1.334711 -0.340164  4.365080   73.037750\n",
       "2  409Wp  1.022732  0.151990  1.419926   85.265647\n",
       "3  iJLyR -0.032172  0.139033  2.978566  168.620776\n",
       "4  Xdl7t  1.988431  0.155413  4.751769  154.036647"
      ]
     },
     "metadata": {},
     "output_type": "display_data"
    },
    {
     "data": {
      "text/html": [
       "<div>\n",
       "<style scoped>\n",
       "    .dataframe tbody tr th:only-of-type {\n",
       "        vertical-align: middle;\n",
       "    }\n",
       "\n",
       "    .dataframe tbody tr th {\n",
       "        vertical-align: top;\n",
       "    }\n",
       "\n",
       "    .dataframe thead th {\n",
       "        text-align: right;\n",
       "    }\n",
       "</style>\n",
       "<table border=\"1\" class=\"dataframe\">\n",
       "  <thead>\n",
       "    <tr style=\"text-align: right;\">\n",
       "      <th></th>\n",
       "      <th>id</th>\n",
       "      <th>f0</th>\n",
       "      <th>f1</th>\n",
       "      <th>f2</th>\n",
       "      <th>product</th>\n",
       "    </tr>\n",
       "  </thead>\n",
       "  <tbody>\n",
       "    <tr>\n",
       "      <th>0</th>\n",
       "      <td>kBEdx</td>\n",
       "      <td>-15.001348</td>\n",
       "      <td>-8.276000</td>\n",
       "      <td>-0.005876</td>\n",
       "      <td>3.179103</td>\n",
       "    </tr>\n",
       "    <tr>\n",
       "      <th>1</th>\n",
       "      <td>62mP7</td>\n",
       "      <td>14.272088</td>\n",
       "      <td>-3.475083</td>\n",
       "      <td>0.999183</td>\n",
       "      <td>26.953261</td>\n",
       "    </tr>\n",
       "    <tr>\n",
       "      <th>2</th>\n",
       "      <td>vyE1P</td>\n",
       "      <td>6.263187</td>\n",
       "      <td>-5.948386</td>\n",
       "      <td>5.001160</td>\n",
       "      <td>134.766305</td>\n",
       "    </tr>\n",
       "    <tr>\n",
       "      <th>3</th>\n",
       "      <td>KcrkZ</td>\n",
       "      <td>-13.081196</td>\n",
       "      <td>-11.506057</td>\n",
       "      <td>4.999415</td>\n",
       "      <td>137.945408</td>\n",
       "    </tr>\n",
       "    <tr>\n",
       "      <th>4</th>\n",
       "      <td>AHL4O</td>\n",
       "      <td>12.702195</td>\n",
       "      <td>-8.147433</td>\n",
       "      <td>5.004363</td>\n",
       "      <td>134.766305</td>\n",
       "    </tr>\n",
       "  </tbody>\n",
       "</table>\n",
       "</div>"
      ],
      "text/plain": [
       "      id         f0         f1        f2     product\n",
       "0  kBEdx -15.001348  -8.276000 -0.005876    3.179103\n",
       "1  62mP7  14.272088  -3.475083  0.999183   26.953261\n",
       "2  vyE1P   6.263187  -5.948386  5.001160  134.766305\n",
       "3  KcrkZ -13.081196 -11.506057  4.999415  137.945408\n",
       "4  AHL4O  12.702195  -8.147433  5.004363  134.766305"
      ]
     },
     "metadata": {},
     "output_type": "display_data"
    },
    {
     "data": {
      "text/html": [
       "<div>\n",
       "<style scoped>\n",
       "    .dataframe tbody tr th:only-of-type {\n",
       "        vertical-align: middle;\n",
       "    }\n",
       "\n",
       "    .dataframe tbody tr th {\n",
       "        vertical-align: top;\n",
       "    }\n",
       "\n",
       "    .dataframe thead th {\n",
       "        text-align: right;\n",
       "    }\n",
       "</style>\n",
       "<table border=\"1\" class=\"dataframe\">\n",
       "  <thead>\n",
       "    <tr style=\"text-align: right;\">\n",
       "      <th></th>\n",
       "      <th>id</th>\n",
       "      <th>f0</th>\n",
       "      <th>f1</th>\n",
       "      <th>f2</th>\n",
       "      <th>product</th>\n",
       "    </tr>\n",
       "  </thead>\n",
       "  <tbody>\n",
       "    <tr>\n",
       "      <th>0</th>\n",
       "      <td>fwXo0</td>\n",
       "      <td>-1.146987</td>\n",
       "      <td>0.963328</td>\n",
       "      <td>-0.828965</td>\n",
       "      <td>27.758673</td>\n",
       "    </tr>\n",
       "    <tr>\n",
       "      <th>1</th>\n",
       "      <td>WJtFt</td>\n",
       "      <td>0.262778</td>\n",
       "      <td>0.269839</td>\n",
       "      <td>-2.530187</td>\n",
       "      <td>56.069697</td>\n",
       "    </tr>\n",
       "    <tr>\n",
       "      <th>2</th>\n",
       "      <td>ovLUW</td>\n",
       "      <td>0.194587</td>\n",
       "      <td>0.289035</td>\n",
       "      <td>-5.586433</td>\n",
       "      <td>62.871910</td>\n",
       "    </tr>\n",
       "    <tr>\n",
       "      <th>3</th>\n",
       "      <td>q6cA6</td>\n",
       "      <td>2.236060</td>\n",
       "      <td>-0.553760</td>\n",
       "      <td>0.930038</td>\n",
       "      <td>114.572842</td>\n",
       "    </tr>\n",
       "    <tr>\n",
       "      <th>4</th>\n",
       "      <td>WPMUX</td>\n",
       "      <td>-0.515993</td>\n",
       "      <td>1.716266</td>\n",
       "      <td>5.899011</td>\n",
       "      <td>149.600746</td>\n",
       "    </tr>\n",
       "  </tbody>\n",
       "</table>\n",
       "</div>"
      ],
      "text/plain": [
       "      id        f0        f1        f2     product\n",
       "0  fwXo0 -1.146987  0.963328 -0.828965   27.758673\n",
       "1  WJtFt  0.262778  0.269839 -2.530187   56.069697\n",
       "2  ovLUW  0.194587  0.289035 -5.586433   62.871910\n",
       "3  q6cA6  2.236060 -0.553760  0.930038  114.572842\n",
       "4  WPMUX -0.515993  1.716266  5.899011  149.600746"
      ]
     },
     "metadata": {},
     "output_type": "display_data"
    }
   ],
   "source": [
    "display(data_0.head(), data_1.head(), data_2.head())"
   ]
  },
  {
   "cell_type": "markdown",
   "metadata": {},
   "source": [
    "<div class=\"alert alert-warning\">\n",
    "<h2> Комментарий ревьюера ⚠️ <a class=\"tocSkip\"> </h2>\n",
    "\n",
    "В данном проекте мы работаем с данными одинаковой природы, а это значит, что большинство расчетов для регионов будут повторяться. Это отличная возможность потренироваться над оптимизацией кода. Например, вот здесь. Первичное знакомство с данными можно было реализовать в функции и вызывать эту функцию для каждого из датафреймов (в цикле в идеале). В нее можно включить все основные методы типа `head`, `info` и т.д.  Можно графики строить какие-нибудь... Из готового, я бы рекомендовал почитать про [pandas_profiling](https://habr.com/ru/company/ruvds/blog/451478/?)\n"
   ]
  },
  {
   "cell_type": "code",
   "execution_count": 6,
   "metadata": {},
   "outputs": [
    {
     "name": "stdout",
     "output_type": "stream",
     "text": [
      "<class 'pandas.core.frame.DataFrame'>\n",
      "RangeIndex: 100000 entries, 0 to 99999\n",
      "Data columns (total 5 columns):\n",
      " #   Column   Non-Null Count   Dtype  \n",
      "---  ------   --------------   -----  \n",
      " 0   id       100000 non-null  object \n",
      " 1   f0       100000 non-null  float64\n",
      " 2   f1       100000 non-null  float64\n",
      " 3   f2       100000 non-null  float64\n",
      " 4   product  100000 non-null  float64\n",
      "dtypes: float64(4), object(1)\n",
      "memory usage: 3.8+ MB\n",
      "<class 'pandas.core.frame.DataFrame'>\n",
      "RangeIndex: 100000 entries, 0 to 99999\n",
      "Data columns (total 5 columns):\n",
      " #   Column   Non-Null Count   Dtype  \n",
      "---  ------   --------------   -----  \n",
      " 0   id       100000 non-null  object \n",
      " 1   f0       100000 non-null  float64\n",
      " 2   f1       100000 non-null  float64\n",
      " 3   f2       100000 non-null  float64\n",
      " 4   product  100000 non-null  float64\n",
      "dtypes: float64(4), object(1)\n",
      "memory usage: 3.8+ MB\n",
      "<class 'pandas.core.frame.DataFrame'>\n",
      "RangeIndex: 100000 entries, 0 to 99999\n",
      "Data columns (total 5 columns):\n",
      " #   Column   Non-Null Count   Dtype  \n",
      "---  ------   --------------   -----  \n",
      " 0   id       100000 non-null  object \n",
      " 1   f0       100000 non-null  float64\n",
      " 2   f1       100000 non-null  float64\n",
      " 3   f2       100000 non-null  float64\n",
      " 4   product  100000 non-null  float64\n",
      "dtypes: float64(4), object(1)\n",
      "memory usage: 3.8+ MB\n"
     ]
    },
    {
     "data": {
      "text/plain": [
       "None"
      ]
     },
     "metadata": {},
     "output_type": "display_data"
    },
    {
     "data": {
      "text/plain": [
       "None"
      ]
     },
     "metadata": {},
     "output_type": "display_data"
    },
    {
     "data": {
      "text/plain": [
       "None"
      ]
     },
     "metadata": {},
     "output_type": "display_data"
    }
   ],
   "source": [
    "display(data_0.info(), data_1.info(), data_2.info())"
   ]
  },
  {
   "cell_type": "code",
   "execution_count": 7,
   "metadata": {},
   "outputs": [
    {
     "data": {
      "text/plain": [
       "0"
      ]
     },
     "execution_count": 7,
     "metadata": {},
     "output_type": "execute_result"
    }
   ],
   "source": [
    "(data_0.duplicated() | data_1.duplicated() | data_2.duplicated()).sum()"
   ]
  },
  {
   "cell_type": "markdown",
   "metadata": {},
   "source": [
    "<div class=\"alert alert-warning\">\n",
    "<h2> Комментарий ревьюера ⚠️ <a class=\"tocSkip\"> </h2>\n",
    "\n",
    "Да, полных дубликатов нет, но я бы посмотрел по `id` все ли записи уникальные и относятся к разным скважинам, или есть какие-то артефакты...\n"
   ]
  },
  {
   "cell_type": "markdown",
   "metadata": {},
   "source": [
    "<div class=\"alert alert-warning\">\n",
    "<h2> Комментарий ревьюера ⚠️ <a class=\"tocSkip\"> </h2>\n",
    "\n",
    "Возможно стоило посмотреть еще на корреляции признаков, потому что мультиколлинеарность негативно влияет на качество моделей. А построение диаграмм рассеяния позволит виявить нелинейные связи"
   ]
  },
  {
   "cell_type": "markdown",
   "metadata": {},
   "source": [
    "<div class=\"alert alert-warning\">\n",
    "<h2> Комментарий ревьюера ⚠️ <a class=\"tocSkip\"> </h2>\n",
    "\n",
    "А еще, я бы построил графики распределений признаков - много полезной информации можно получить"
   ]
  },
  {
   "cell_type": "code",
   "execution_count": 8,
   "metadata": {},
   "outputs": [],
   "source": [
    "def train_split(data):\n",
    "    target = data['product']\n",
    "    features = data.drop(['id', 'product'], axis=1)\n",
    "    features_train, features_valid, target_train, target_valid = train_test_split(\n",
    "        features, target, test_size=0.25, random_state=12345)\n",
    "    scaler = StandardScaler()\n",
    "    scaler.fit(features_train)\n",
    "    features_train = scaler.transform(features_train)\n",
    "    features_valid = scaler.transform(features_valid)\n",
    "    return features_train, features_valid, target_train, target_valid"
   ]
  },
  {
   "cell_type": "markdown",
   "metadata": {},
   "source": [
    "<div class=\"alert alert-success\">\n",
    "<h2> Комментарий ревьюера ✔️ <a class=\"tocSkip\"> </h2>\n",
    "\n",
    "Круто, что ты фиксируешь `random_state`. Кстати, его можно задать один раз в начале проекта, например, используя любимый нами [numpy](https://pyprog.pro/random_sampling_functions/seed.html?)\n"
   ]
  },
  {
   "cell_type": "code",
   "execution_count": 9,
   "metadata": {},
   "outputs": [],
   "source": [
    "features_train_0, features_valid_0, target_train_0, target_valid_0 = train_split(data_0)\n",
    "features_train_1, features_valid_1, target_train_1, target_valid_1 = train_split(data_1)\n",
    "features_train_2, features_valid_2, target_train_2, target_valid_2 = train_split(data_2)"
   ]
  },
  {
   "cell_type": "markdown",
   "metadata": {},
   "source": [
    "## Обучение и проверка модели"
   ]
  },
  {
   "cell_type": "code",
   "execution_count": 10,
   "metadata": {
    "scrolled": true
   },
   "outputs": [
    {
     "name": "stdout",
     "output_type": "stream",
     "text": [
      "37.5794217150813 44.28602687855358\n"
     ]
    }
   ],
   "source": [
    "model_0 = LinearRegression().fit(features_train_0, target_train_0)\n",
    "predictions_0 = pd.Series(model_0.predict(features_valid_0), index=target_valid_0.index)\n",
    "rmse_0 = mean_squared_error(target_valid_0, predictions_0) ** 0.5\n",
    "dummy_rmse_0 = mean_squared_error(target_valid_0, pd.Series(target_valid_0.mean(), index=target_valid_0.index)) ** 0.5\n",
    "mean_target_0 = round(data_0['product'].mean(), 5)\n",
    "print(rmse_0, dummy_rmse_0)"
   ]
  },
  {
   "cell_type": "markdown",
   "metadata": {},
   "source": [
    "<div class=\"alert alert-success\">\n",
    "<h2> Комментарий ревьюера ✔️ <a class=\"tocSkip\"> </h2>\n",
    "\n",
    "У метрики `MSE` есть встроенная возможность сразу считать rmse. Вот [здесь](https://stackoverflow.com/questions/17197492/is-there-a-library-function-for-root-mean-square-error-rmse-in-python) про это пишут\n"
   ]
  },
  {
   "cell_type": "code",
   "execution_count": 11,
   "metadata": {},
   "outputs": [
    {
     "name": "stdout",
     "output_type": "stream",
     "text": [
      "0.893099286775617 46.0212449226281\n"
     ]
    }
   ],
   "source": [
    "model_1 = LinearRegression().fit(features_train_1, target_train_1)\n",
    "predictions_1 = pd.Series(model_1.predict(features_valid_1), index=target_valid_1.index)\n",
    "rmse_1 = mean_squared_error(target_valid_1, predictions_1) ** 0.5\n",
    "dummy_rmse_1 = mean_squared_error(target_valid_1, pd.Series(target_valid_1.mean(), index=target_valid_1.index)) ** 0.5\n",
    "print(rmse_1, dummy_rmse_1)\n",
    "mean_target_1 = round(data_1['product'].mean(),5)"
   ]
  },
  {
   "cell_type": "code",
   "execution_count": 12,
   "metadata": {},
   "outputs": [
    {
     "name": "stdout",
     "output_type": "stream",
     "text": [
      "40.02970873393434 44.902084376898294\n"
     ]
    }
   ],
   "source": [
    "model_2 = LinearRegression().fit(features_train_2, target_train_2)\n",
    "predictions_2 = pd.Series(model_2.predict(features_valid_2), index=target_valid_2.index)\n",
    "rmse_2 = mean_squared_error(target_valid_2, predictions_2) ** 0.5\n",
    "dummy_rmse_2 = mean_squared_error(target_valid_2, pd.Series(target_valid_2.mean(), index=target_valid_2.index)) ** 0.5\n",
    "print(rmse_2, dummy_rmse_2)\n",
    "mean_target_2 = round(data_2['product'].mean(),5)"
   ]
  },
  {
   "cell_type": "code",
   "execution_count": 13,
   "metadata": {},
   "outputs": [
    {
     "name": "stdout",
     "output_type": "stream",
     "text": [
      "Среднее количество сырья для первого региона (data_0) = 92.5\n",
      "RMSE модели на валидационной выборке = 37.5794217150813\n"
     ]
    }
   ],
   "source": [
    "print(f'''Среднее количество сырья для первого региона (data_0) = {mean_target_0}\n",
    "RMSE модели на валидационной выборке = {rmse_0}''')"
   ]
  },
  {
   "cell_type": "code",
   "execution_count": 14,
   "metadata": {},
   "outputs": [
    {
     "name": "stdout",
     "output_type": "stream",
     "text": [
      "Среднее количество сырья для второго региона (data_1) = 68.825\n",
      "RMSE модели на валидационной выборке = 0.893099286775617\n"
     ]
    }
   ],
   "source": [
    "print(f'''Среднее количество сырья для второго региона (data_1) = {mean_target_1}\n",
    "RMSE модели на валидационной выборке = {rmse_1}''')"
   ]
  },
  {
   "cell_type": "code",
   "execution_count": 15,
   "metadata": {},
   "outputs": [
    {
     "name": "stdout",
     "output_type": "stream",
     "text": [
      "Среднее количество сырья для первого региона (data_2) = 95.0\n",
      "RMSE модели на валидационной выборке = 40.02970873393434\n"
     ]
    }
   ],
   "source": [
    "print(f'''Среднее количество сырья для первого региона (data_2) = {mean_target_2}\n",
    "RMSE модели на валидационной выборке = {rmse_2}''')"
   ]
  },
  {
   "cell_type": "markdown",
   "metadata": {},
   "source": [
    "Все модели сравнены с дамми-моделью из констант - их показатели выше. \n",
    "\n",
    "Среднее количество сырья во втором региона сильно ниже, чем в двух других. При этом признаки проколов в данном регионе сильно точнее позволили модели предсказать количество сырья на валидационной выборке"
   ]
  },
  {
   "cell_type": "markdown",
   "metadata": {},
   "source": [
    "<div class=\"alert alert-success\">\n",
    "<h2> Комментарий ревьюера ✔️ <a class=\"tocSkip\"> </h2>\n",
    "\n",
    "Такое различие в результатах мне кажется подозрительным. Явно со вторым регионом что-то не то. Я бы обязательно подсвятил это перед заказчиком"
   ]
  },
  {
   "cell_type": "markdown",
   "metadata": {},
   "source": [
    "## Подготовка к расчёту прибыли"
   ]
  },
  {
   "cell_type": "markdown",
   "metadata": {},
   "source": [
    "При разведке региона исследуют 500 точек, из которых с помощью машинного обучения выбирают 200 лучших для разработки.\n",
    "Бюджет на разработку скважин в регионе — 10 млрд рублей.\n",
    "При нынешних ценах один баррель сырья приносит 450 рублей дохода. Доход с каждой единицы продукта составляет 450 тыс. рублей, поскольку объём указан в тысячах баррелей."
   ]
  },
  {
   "cell_type": "code",
   "execution_count": 16,
   "metadata": {},
   "outputs": [],
   "source": [
    "BUDGET_WELL = 10_000_000_000\n",
    "N_WELLS = 500\n",
    "N_BEST_WELLS = 200\n",
    "BARREL = 450_000"
   ]
  },
  {
   "cell_type": "code",
   "execution_count": 17,
   "metadata": {},
   "outputs": [],
   "source": [
    "MEAN_PRODUCT = BUDGET_WELL / (BARREL * N_BEST_WELLS)"
   ]
  },
  {
   "cell_type": "code",
   "execution_count": 18,
   "metadata": {},
   "outputs": [
    {
     "name": "stdout",
     "output_type": "stream",
     "text": [
      "Среднее количество продукта с прокола для окупаемости должно составлять 111.11111\n"
     ]
    }
   ],
   "source": [
    "print('Среднее количество продукта с прокола для окупаемости должно составлять', round(MEAN_PRODUCT, 5))"
   ]
  },
  {
   "cell_type": "code",
   "execution_count": 19,
   "metadata": {},
   "outputs": [
    {
     "name": "stdout",
     "output_type": "stream",
     "text": [
      "Среднее количество продукта для регионов:\n",
      "Первый - 92.5\n",
      "Второй - 68.825\n",
      "Третий - 95.0\n"
     ]
    }
   ],
   "source": [
    "print(f'''Среднее количество продукта для регионов:\n",
    "Первый - {mean_target_0}\n",
    "Второй - {mean_target_1}\n",
    "Третий - {mean_target_2}''')"
   ]
  },
  {
   "cell_type": "markdown",
   "metadata": {},
   "source": [
    "#### Вывод\n",
    "Среднее значение продукта для окупаемости выше, чем среднее количество продукта фактически. Для определения шансов окупаемости требуется дальнейшее исследование"
   ]
  },
  {
   "cell_type": "markdown",
   "metadata": {},
   "source": [
    "<div class=\"alert alert-success\">\n",
    "<h2> Комментарий ревьюера ✔️ <a class=\"tocSkip\"> </h2>\n",
    "\n",
    "Так и есть, это может говорить о том, что мы не можем рандомно выбирать скважины для разработки, ведь в таком случае, нас, возможно, ждет неудача"
   ]
  },
  {
   "cell_type": "markdown",
   "metadata": {},
   "source": [
    "## Расчёт прибыли и рисков "
   ]
  },
  {
   "cell_type": "code",
   "execution_count": 20,
   "metadata": {},
   "outputs": [],
   "source": [
    "state = np.random.RandomState(12345)"
   ]
  },
  {
   "cell_type": "code",
   "execution_count": 21,
   "metadata": {},
   "outputs": [],
   "source": [
    "#функция для расчета дохода 200 лучших проколов\n",
    "def revenue(predictions, target):\n",
    "    predictions = predictions.sort_values(ascending=False)[:200]\n",
    "    return target[predictions.index].sum() * BARREL - BUDGET_WELL"
   ]
  },
  {
   "cell_type": "markdown",
   "metadata": {},
   "source": [
    "<div class=\"alert alert-success\">\n",
    "<h2> Комментарий ревьюера ✔️ <a class=\"tocSkip\"> </h2>\n",
    "\n",
    "Сортируем по прогнозам, берем факт 👍\n"
   ]
  },
  {
   "cell_type": "markdown",
   "metadata": {},
   "source": [
    "#### Расчет прибыли и рисков для первого региона"
   ]
  },
  {
   "cell_type": "code",
   "execution_count": 22,
   "metadata": {},
   "outputs": [],
   "source": [
    "#подбор выборок из 500 проколов и подсчет дохода с помощью функции\n",
    "values=[]\n",
    "for i in range(1000):\n",
    "    values.append(revenue(predictions_0.sample(n=500, replace=True, random_state=state), target_valid_0))"
   ]
  },
  {
   "cell_type": "markdown",
   "metadata": {},
   "source": [
    "<div class=\"alert alert-danger\">\n",
    "<h2> Комментарий ревьюера ❌ <a class=\"tocSkip\"> </h2>\n",
    "\n",
    "Важно, чтобы бутстреп проводился корректно, т.е. с возвращением. Мы как бы имитируем тут новую геологоразведку по району из старой, это нормально, что скважины могут получиться похожими, мы не можем сказать, что в новой геологоразведке такой ситуации не возникнет. Ну и плюс иначе мы ограничены в размерах подвыборки размерами исходной выборки, в общем случае, если сэмплирование делать без возвращения.\n",
    "\n",
    "P.S. Проверь, чтобы в итоге в расчете участвовало ровно 200 скважин"
   ]
  },
  {
   "cell_type": "markdown",
   "metadata": {},
   "source": [
    "<div style=\"background: #B0E0E6; padding: 5px; border: 1px solid SteelBlue; border-radius: 5px;\">\n",
    "    <font color='4682B4'><u><b>КОММЕНТАРИЙ СТУДЕНТА</b></u></font>\n",
    "    <br />\n",
    "    <font color='4682B4'>Не очень понимаю как это в принципе возможно исследовать один прокол несколько раз и учитывать эти данные при разработки новой. То есть может так оказаться, что мы 500 раз возьмем один и тот же прокол, он выдаст нам результат и мы такие класс, делаем тут. Или в реальном исследовании, чтобы чуваки сознательно брали несколько раз один и тот же прокол?\n",
    "    Я бы конечно поменял на тру, если бы это все что требовалось. Но пандас выдает ошибку из-за дублированных индексов. Это не решить (или я не знаю как) без удаления/изменения индексов, а этого делать нельзя, потому что они нам нужны, чтобы брать данные из валидационного таргета\n",
    "    P.S. Проверял/проверил, каждый раз берет 200</font>\n",
    "</div>"
   ]
  },
  {
   "cell_type": "markdown",
   "metadata": {},
   "source": [
    "<div class=\"alert alert-success\">\n",
    "<h2> Комментарий ревьюера v2 ✔️ <a class=\"tocSkip\"> </h2>\n",
    "\n",
    "Так мы предполагаем, что скважины могут быть похожу друг на друга)"
   ]
  },
  {
   "attachments": {
    "image.png": {
     "image/png": "[encoded data removed]"
    }
   },
   "cell_type": "markdown",
   "metadata": {},
   "source": [
    "![image.png](attachment:image.png)\n",
    "ValueError: cannot reindex on an axis with duplicate labels\n",
    "\n",
    "ошибка которую выдает компилятор на строчке predictions = pd.Series(predictions, index=target.index)\n",
    "\n",
    "Ответа в сети кроме описанного не нашёл. Ответа в пачке нет. "
   ]
  },
  {
   "cell_type": "markdown",
   "metadata": {},
   "source": [
    "<div class=\"alert alert-danger\">\n",
    "<h2> Комментарий ревьюера v2 ❌ <a class=\"tocSkip\"> </h2>\n",
    "\n",
    "А тебе и не нужна это строка. Ты ведь уже соотнес индексы, т.е target_valid_0 и predictions_0 имеют одинаковые индексы"
   ]
  },
  {
   "cell_type": "markdown",
   "metadata": {},
   "source": [
    "<div style=\"background: #B0E0E6; padding: 5px; border: 1px solid SteelBlue; border-radius: 5px;\">\n",
    "    <font color='4682B4'><u><b>КОММЕНТАРИЙ СТУДЕНТА</b></u></font>\n",
    "    <br />\n",
    "    <font color='4682B4'>Ясно. Полдня потратил, чтобы найти способ исправления ошибки. Убрал ее из функции</font>\n",
    "</div>"
   ]
  },
  {
   "cell_type": "code",
   "execution_count": 23,
   "metadata": {},
   "outputs": [
    {
     "name": "stdout",
     "output_type": "stream",
     "text": [
      "Нижняя граница = -111215545.89049526\n",
      "Верхняя граница = 909766941.5534226\n"
     ]
    }
   ],
   "source": [
    "#95% интервал\n",
    "values=pd.Series(values)\n",
    "values.loc[(values>values.quantile(.025))&(values<values.quantile(.975))]\n",
    "print(f'''Нижняя граница = {values.quantile(.025)}\n",
    "Верхняя граница = {values.quantile(0.975)}''')"
   ]
  },
  {
   "cell_type": "markdown",
   "metadata": {},
   "source": [
    "<div class=\"alert alert-danger\">\n",
    "<h2> Комментарий ревьюера ❌ <a class=\"tocSkip\"> </h2>\n",
    "\n",
    "Доверительный интервал считается по другим процентилям, плюс этот расчет необходим не для какой-либо фильтрации данных, а как статистическая информация, т.е этот интервал нужно просто вывести"
   ]
  },
  {
   "cell_type": "markdown",
   "metadata": {},
   "source": [
    "<div style=\"background: #B0E0E6; padding: 5px; border: 1px solid SteelBlue; border-radius: 5px;\">\n",
    "    <font color='4682B4'><u><b>КОММЕНТАРИЙ СТУДЕНТА</b></u></font>\n",
    "    <br />\n",
    "    <font color='4682B4'>Исправил</font>\n",
    "</div>"
   ]
  },
  {
   "cell_type": "code",
   "execution_count": 24,
   "metadata": {
    "scrolled": true
   },
   "outputs": [
    {
     "data": {
      "text/plain": [
       "396164984.8023711"
      ]
     },
     "execution_count": 24,
     "metadata": {},
     "output_type": "execute_result"
    }
   ],
   "source": [
    "mean_0 = values.mean()\n",
    "mean_0"
   ]
  },
  {
   "cell_type": "code",
   "execution_count": 25,
   "metadata": {},
   "outputs": [
    {
     "data": {
      "text/plain": [
       "0.069"
      ]
     },
     "execution_count": 25,
     "metadata": {},
     "output_type": "execute_result"
    }
   ],
   "source": [
    "#расчет рисков убытка для региона\n",
    "risk_0 = (values < 0).mean()\n",
    "risk_0"
   ]
  },
  {
   "cell_type": "markdown",
   "metadata": {},
   "source": [
    "<div class=\"alert alert-success\">\n",
    "<h2> Комментарий ревьюера ✔️ <a class=\"tocSkip\"> </h2>\n",
    "\n",
    "Расчет рисков можно было выполнить проще, например, так \n",
    "    \n",
    "```python\n",
    "risk = (values < 0).mean()\n",
    "```\n",
    "\n",
    "Либо можно использовать [percentileofscore](https://docs.scipy.org/doc/scipy/reference/generated/scipy.stats.percentileofscore.html) от `scipy`\n"
   ]
  },
  {
   "cell_type": "markdown",
   "metadata": {},
   "source": [
    "#### Расчет прибыли и рисков для второго региона"
   ]
  },
  {
   "cell_type": "code",
   "execution_count": 26,
   "metadata": {},
   "outputs": [],
   "source": [
    "#подбор выборок из 500 проколов и подсчет дохода с помощью функции\n",
    "values=[]\n",
    "for i in range(1000):\n",
    "    values.append(revenue(predictions_1.sample(n=500, replace=True, random_state=state), target_valid_1))"
   ]
  },
  {
   "cell_type": "code",
   "execution_count": 27,
   "metadata": {},
   "outputs": [
    {
     "name": "stdout",
     "output_type": "stream",
     "text": [
      "Нижняя граница = 78050810.7517417\n",
      "Верхняя граница = 862952060.2637234\n"
     ]
    }
   ],
   "source": [
    "#95% интервал\n",
    "values=pd.Series(values)\n",
    "values.loc[(values>values.quantile(.025))&(values<values.quantile(.975))]\n",
    "print(f'''Нижняя граница = {values.quantile(.025)}\n",
    "Верхняя граница = {values.quantile(0.975)}''')"
   ]
  },
  {
   "cell_type": "code",
   "execution_count": 28,
   "metadata": {},
   "outputs": [
    {
     "data": {
      "text/plain": [
       "461155817.2772397"
      ]
     },
     "execution_count": 28,
     "metadata": {},
     "output_type": "execute_result"
    }
   ],
   "source": [
    "mean_1 = values.mean()\n",
    "mean_1"
   ]
  },
  {
   "cell_type": "code",
   "execution_count": 29,
   "metadata": {},
   "outputs": [
    {
     "data": {
      "text/plain": [
       "0.007"
      ]
     },
     "execution_count": 29,
     "metadata": {},
     "output_type": "execute_result"
    }
   ],
   "source": [
    "#расчет рисков убытка для региона\n",
    "risk_1 =  (values < 0).mean()\n",
    "risk_1"
   ]
  },
  {
   "cell_type": "markdown",
   "metadata": {},
   "source": [
    "#### Расчет прибыли и рисков для третьего региона"
   ]
  },
  {
   "cell_type": "code",
   "execution_count": 30,
   "metadata": {},
   "outputs": [],
   "source": [
    "#подбор выборок из 500 проколов и подсчет дохода с помощью функции\n",
    "values=[]\n",
    "for i in range(1000):\n",
    "    values.append(revenue(predictions_2.sample(n=500, replace=True, random_state=state), target_valid_2))"
   ]
  },
  {
   "cell_type": "code",
   "execution_count": 31,
   "metadata": {},
   "outputs": [
    {
     "name": "stdout",
     "output_type": "stream",
     "text": [
      "Нижняя граница = -112227625.37857565\n",
      "Верхняя граница = 934562914.5511636\n"
     ]
    }
   ],
   "source": [
    "#95% интервал\n",
    "values=pd.Series(values)\n",
    "values.loc[(values>values.quantile(.025))&(values<values.quantile(.975))]\n",
    "print(f'''Нижняя граница = {values.quantile(.025)}\n",
    "Верхняя граница = {values.quantile(0.975)}''')"
   ]
  },
  {
   "cell_type": "code",
   "execution_count": 32,
   "metadata": {},
   "outputs": [
    {
     "data": {
      "text/plain": [
       "392950475.17060447"
      ]
     },
     "execution_count": 32,
     "metadata": {},
     "output_type": "execute_result"
    }
   ],
   "source": [
    "mean_2 = values.mean()\n",
    "mean_2"
   ]
  },
  {
   "cell_type": "code",
   "execution_count": 33,
   "metadata": {},
   "outputs": [
    {
     "data": {
      "text/plain": [
       "0.065"
      ]
     },
     "execution_count": 33,
     "metadata": {},
     "output_type": "execute_result"
    }
   ],
   "source": [
    "#расчет рисков убытка для региона\n",
    "risk_2 = (values < 0).mean()\n",
    "risk_2"
   ]
  },
  {
   "cell_type": "markdown",
   "metadata": {},
   "source": [
    "### Вывод"
   ]
  },
  {
   "cell_type": "markdown",
   "metadata": {},
   "source": [
    "Исследование данных позволило изучить все 3 региона:\n",
    "* С помощью модели LinearRegression на основе данных по регионам я получил предсказания по признакам каждого прокола\n",
    "* Зная расходы для открытия новых проколов, подсчитал, что в среднем 200 проколов должны содержать 111т. бареллей нефти для окупаемости\n",
    "* С помощью реализации техники bootstrap я случайно отобрал по 500 (это количество точек для исследования в каждом регионе) точек и из них 200 самых прибыльных, основываясь на предсказании модели\n",
    "* Средний доход и риски для каждого региона:\n",
    "* * Первый регион: риск убытков = 6.9%. Средний доход с прокола = 396млн.\n",
    "* * Второй регион: риск убытков = 0.7%. Средний доход прокола = 461млн.\n",
    "* * Третий регион: риск убытков = 6.5%. Средний доход прокола = 393млн.\n",
    "\n",
    "Второй региона самый прибыльный для исследования проколов и открытия новых. Риск убытков 0.7%, средний доход с одного прокола почти на 10% выше, чем в других регионах. Остальные регионы не подходят под критерий (риск > 2.5%)"
   ]
  },
  {
   "cell_type": "markdown",
   "metadata": {},
   "source": [
    "<div class=\"alert alert-danger\">\n",
    "<h2> Комментарий ревьюера ❌ <a class=\"tocSkip\"> </h2>\n",
    "\n",
    "Не забудь проверить выводы после внесения всех правок"
   ]
  },
  {
   "cell_type": "markdown",
   "metadata": {},
   "source": [
    "## Чек-лист готовности проекта"
   ]
  },
  {
   "cell_type": "markdown",
   "metadata": {},
   "source": [
    "Поставьте 'x' в выполненных пунктах. Далее нажмите Shift+Enter."
   ]
  },
  {
   "cell_type": "markdown",
   "metadata": {},
   "source": [
    "- [x]  Jupyter Notebook открыт\n",
    "- [x]  Весь код выполняется без ошибок\n",
    "- [x]  Ячейки с кодом расположены в порядке исполнения\n",
    "- [x]  Выполнен шаг 1: данные подготовлены\n",
    "- [x]  Выполнен шаг 2: модели обучены и проверены\n",
    "    - [x]  Данные корректно разбиты на обучающую и валидационную выборки\n",
    "    - [x]  Модели обучены, предсказания сделаны\n",
    "    - [x]  Предсказания и правильные ответы на валидационной выборке сохранены\n",
    "    - [x]  На экране напечатаны результаты\n",
    "    - [x]  Сделаны выводы\n",
    "- [x]  Выполнен шаг 3: проведена подготовка к расчёту прибыли\n",
    "    - [x]  Для всех ключевых значений созданы константы Python\n",
    "    - [x]  Посчитано минимальное среднее количество продукта в месторождениях региона, достаточное для разработки\n",
    "    - [x]  По предыдущему пункту сделаны выводы\n",
    "    - [x]  Написана функция расчёта прибыли\n",
    "- [x]  Выполнен шаг 4: посчитаны риски и прибыль\n",
    "    - [x]  Проведена процедура *Bootstrap*\n",
    "    - [x]  Все параметры бутстрепа соответствуют условию\n",
    "    - [x]  Найдены все нужные величины\n",
    "    - [x]  Предложен регион для разработки месторождения\n",
    "    - [x]  Выбор региона обоснован"
   ]
  }
 ],
 "metadata": {
  "ExecuteTimeLog": [
   {
    "duration": 1530,
    "start_time": "2023-05-08T23:51:01.181Z"
   },
   {
    "duration": 163,
    "start_time": "2023-05-08T23:51:02.713Z"
   },
   {
    "duration": 154,
    "start_time": "2023-05-08T23:51:02.878Z"
   },
   {
    "duration": 152,
    "start_time": "2023-05-08T23:51:03.035Z"
   },
   {
    "duration": 26,
    "start_time": "2023-05-08T23:51:03.190Z"
   },
   {
    "duration": 48,
    "start_time": "2023-05-08T23:51:03.217Z"
   },
   {
    "duration": 131,
    "start_time": "2023-05-08T23:51:03.267Z"
   },
   {
    "duration": 4,
    "start_time": "2023-05-08T23:51:03.399Z"
   },
   {
    "duration": 64,
    "start_time": "2023-05-08T23:51:03.404Z"
   },
   {
    "duration": 65,
    "start_time": "2023-05-08T23:51:03.469Z"
   },
   {
    "duration": 102,
    "start_time": "2023-05-08T23:51:03.545Z"
   },
   {
    "duration": 198,
    "start_time": "2023-05-08T23:51:03.649Z"
   },
   {
    "duration": 197,
    "start_time": "2023-05-08T23:51:03.849Z"
   },
   {
    "duration": 4,
    "start_time": "2023-05-08T23:51:04.049Z"
   },
   {
    "duration": 7,
    "start_time": "2023-05-08T23:51:04.054Z"
   },
   {
    "duration": 7,
    "start_time": "2023-05-08T23:51:04.063Z"
   },
   {
    "duration": 8,
    "start_time": "2023-05-08T23:51:04.072Z"
   },
   {
    "duration": 10,
    "start_time": "2023-05-08T23:51:04.081Z"
   },
   {
    "duration": 9,
    "start_time": "2023-05-08T23:51:04.093Z"
   },
   {
    "duration": 15,
    "start_time": "2023-05-08T23:51:04.104Z"
   },
   {
    "duration": 8,
    "start_time": "2023-05-08T23:51:04.120Z"
   },
   {
    "duration": 1864,
    "start_time": "2023-05-08T23:51:04.130Z"
   },
   {
    "duration": 6,
    "start_time": "2023-05-08T23:51:05.996Z"
   },
   {
    "duration": 9,
    "start_time": "2023-05-08T23:51:06.003Z"
   },
   {
    "duration": 11,
    "start_time": "2023-05-08T23:51:06.014Z"
   },
   {
    "duration": 1783,
    "start_time": "2023-05-08T23:51:06.026Z"
   },
   {
    "duration": 6,
    "start_time": "2023-05-08T23:51:07.811Z"
   },
   {
    "duration": 17,
    "start_time": "2023-05-08T23:51:07.818Z"
   },
   {
    "duration": 5,
    "start_time": "2023-05-08T23:51:07.836Z"
   },
   {
    "duration": 1783,
    "start_time": "2023-05-08T23:51:07.842Z"
   },
   {
    "duration": 10,
    "start_time": "2023-05-08T23:51:09.627Z"
   },
   {
    "duration": 9,
    "start_time": "2023-05-08T23:51:09.638Z"
   },
   {
    "duration": 9,
    "start_time": "2023-05-08T23:51:09.649Z"
   },
   {
    "duration": 3,
    "start_time": "2023-05-08T23:51:35.155Z"
   },
   {
    "duration": 173,
    "start_time": "2023-05-08T23:51:37.343Z"
   },
   {
    "duration": 158,
    "start_time": "2023-05-08T23:51:37.781Z"
   },
   {
    "duration": 36,
    "start_time": "2023-05-08T23:51:39.514Z"
   },
   {
    "duration": 45,
    "start_time": "2023-05-08T23:51:43.457Z"
   },
   {
    "duration": 14,
    "start_time": "2023-05-08T23:51:45.642Z"
   },
   {
    "duration": 13,
    "start_time": "2023-05-08T23:51:46.086Z"
   },
   {
    "duration": 4,
    "start_time": "2023-05-08T23:51:46.515Z"
   },
   {
    "duration": 3,
    "start_time": "2023-05-08T23:51:46.955Z"
   },
   {
    "duration": 3,
    "start_time": "2023-05-08T23:51:47.484Z"
   },
   {
    "duration": 3,
    "start_time": "2023-05-08T23:51:49.142Z"
   },
   {
    "duration": 3,
    "start_time": "2023-05-08T23:51:49.577Z"
   },
   {
    "duration": 3,
    "start_time": "2023-05-08T23:51:50.016Z"
   },
   {
    "duration": 3,
    "start_time": "2023-05-08T23:51:50.452Z"
   },
   {
    "duration": 2,
    "start_time": "2023-05-08T23:51:51.761Z"
   },
   {
    "duration": 1868,
    "start_time": "2023-05-08T23:51:53.941Z"
   },
   {
    "duration": 106,
    "start_time": "2023-05-08T23:51:55.810Z"
   },
   {
    "duration": 8,
    "start_time": "2023-05-08T23:51:56.127Z"
   },
   {
    "duration": 1739,
    "start_time": "2023-05-08T23:51:56.997Z"
   },
   {
    "duration": 6,
    "start_time": "2023-05-08T23:51:58.737Z"
   },
   {
    "duration": 14,
    "start_time": "2023-05-08T23:51:58.744Z"
   },
   {
    "duration": 15,
    "start_time": "2023-05-08T23:51:58.760Z"
   },
   {
    "duration": 1973,
    "start_time": "2023-05-08T23:51:59.179Z"
   },
   {
    "duration": 5,
    "start_time": "2023-05-08T23:52:01.155Z"
   },
   {
    "duration": 37,
    "start_time": "2023-05-08T23:52:01.161Z"
   },
   {
    "duration": 27,
    "start_time": "2023-05-08T23:52:01.200Z"
   },
   {
    "duration": 1636,
    "start_time": "2023-05-08T23:52:10.063Z"
   },
   {
    "duration": 170,
    "start_time": "2023-05-08T23:52:11.701Z"
   },
   {
    "duration": 146,
    "start_time": "2023-05-08T23:52:11.873Z"
   },
   {
    "duration": 148,
    "start_time": "2023-05-08T23:52:12.021Z"
   },
   {
    "duration": 25,
    "start_time": "2023-05-08T23:52:12.170Z"
   },
   {
    "duration": 50,
    "start_time": "2023-05-08T23:52:12.196Z"
   },
   {
    "duration": 117,
    "start_time": "2023-05-08T23:52:12.248Z"
   },
   {
    "duration": 4,
    "start_time": "2023-05-08T23:52:12.366Z"
   },
   {
    "duration": 60,
    "start_time": "2023-05-08T23:52:12.371Z"
   },
   {
    "duration": 18,
    "start_time": "2023-05-08T23:52:12.433Z"
   },
   {
    "duration": 106,
    "start_time": "2023-05-08T23:52:12.537Z"
   },
   {
    "duration": 195,
    "start_time": "2023-05-08T23:52:12.645Z"
   },
   {
    "duration": 109,
    "start_time": "2023-05-08T23:52:12.842Z"
   },
   {
    "duration": 84,
    "start_time": "2023-05-08T23:52:12.952Z"
   },
   {
    "duration": 3,
    "start_time": "2023-05-08T23:52:13.037Z"
   },
   {
    "duration": 7,
    "start_time": "2023-05-08T23:52:13.041Z"
   },
   {
    "duration": 5,
    "start_time": "2023-05-08T23:52:13.049Z"
   },
   {
    "duration": 6,
    "start_time": "2023-05-08T23:52:13.055Z"
   },
   {
    "duration": 5,
    "start_time": "2023-05-08T23:52:13.062Z"
   },
   {
    "duration": 7,
    "start_time": "2023-05-08T23:52:13.069Z"
   },
   {
    "duration": 4,
    "start_time": "2023-05-08T23:52:13.078Z"
   },
   {
    "duration": 1838,
    "start_time": "2023-05-08T23:52:13.083Z"
   },
   {
    "duration": 13,
    "start_time": "2023-05-08T23:52:14.923Z"
   },
   {
    "duration": 10,
    "start_time": "2023-05-08T23:52:14.937Z"
   },
   {
    "duration": 10,
    "start_time": "2023-05-08T23:52:14.948Z"
   },
   {
    "duration": 1802,
    "start_time": "2023-05-08T23:52:14.959Z"
   },
   {
    "duration": 5,
    "start_time": "2023-05-08T23:52:16.762Z"
   },
   {
    "duration": 10,
    "start_time": "2023-05-08T23:52:16.770Z"
   },
   {
    "duration": 14,
    "start_time": "2023-05-08T23:52:16.781Z"
   },
   {
    "duration": 1787,
    "start_time": "2023-05-08T23:52:16.796Z"
   },
   {
    "duration": 6,
    "start_time": "2023-05-08T23:52:18.585Z"
   },
   {
    "duration": 8,
    "start_time": "2023-05-08T23:52:18.592Z"
   },
   {
    "duration": 6,
    "start_time": "2023-05-08T23:52:18.602Z"
   },
   {
    "duration": 3,
    "start_time": "2023-05-08T23:55:48.761Z"
   },
   {
    "duration": 2439,
    "start_time": "2023-05-08T23:56:01.046Z"
   },
   {
    "duration": 3,
    "start_time": "2023-05-08T23:56:10.911Z"
   },
   {
    "duration": 1906,
    "start_time": "2023-05-08T23:56:13.821Z"
   },
   {
    "duration": 6,
    "start_time": "2023-05-09T00:01:23.487Z"
   },
   {
    "duration": 6,
    "start_time": "2023-05-09T00:01:27.688Z"
   },
   {
    "duration": 1633,
    "start_time": "2023-05-10T00:42:39.057Z"
   },
   {
    "duration": 158,
    "start_time": "2023-05-10T00:42:40.691Z"
   },
   {
    "duration": 168,
    "start_time": "2023-05-10T00:42:40.850Z"
   },
   {
    "duration": 150,
    "start_time": "2023-05-10T00:42:41.021Z"
   },
   {
    "duration": 24,
    "start_time": "2023-05-10T00:42:41.173Z"
   },
   {
    "duration": 53,
    "start_time": "2023-05-10T00:42:41.199Z"
   },
   {
    "duration": 130,
    "start_time": "2023-05-10T00:42:41.254Z"
   },
   {
    "duration": 4,
    "start_time": "2023-05-10T00:42:41.385Z"
   },
   {
    "duration": 67,
    "start_time": "2023-05-10T00:42:41.391Z"
   },
   {
    "duration": 83,
    "start_time": "2023-05-10T00:42:41.460Z"
   },
   {
    "duration": 101,
    "start_time": "2023-05-10T00:42:41.544Z"
   },
   {
    "duration": 197,
    "start_time": "2023-05-10T00:42:41.647Z"
   },
   {
    "duration": 187,
    "start_time": "2023-05-10T00:42:41.849Z"
   },
   {
    "duration": 8,
    "start_time": "2023-05-10T00:42:42.037Z"
   },
   {
    "duration": 6,
    "start_time": "2023-05-10T00:42:42.047Z"
   },
   {
    "duration": 7,
    "start_time": "2023-05-10T00:42:42.054Z"
   },
   {
    "duration": 7,
    "start_time": "2023-05-10T00:42:42.062Z"
   },
   {
    "duration": 7,
    "start_time": "2023-05-10T00:42:42.070Z"
   },
   {
    "duration": 6,
    "start_time": "2023-05-10T00:42:42.078Z"
   },
   {
    "duration": 6,
    "start_time": "2023-05-10T00:42:42.086Z"
   },
   {
    "duration": 17,
    "start_time": "2023-05-10T00:42:42.093Z"
   },
   {
    "duration": 1797,
    "start_time": "2023-05-10T00:42:42.112Z"
   },
   {
    "duration": 7,
    "start_time": "2023-05-10T00:42:43.910Z"
   },
   {
    "duration": 6,
    "start_time": "2023-05-10T00:42:43.918Z"
   },
   {
    "duration": 13,
    "start_time": "2023-05-10T00:42:43.925Z"
   },
   {
    "duration": 1865,
    "start_time": "2023-05-10T00:42:43.939Z"
   },
   {
    "duration": 8,
    "start_time": "2023-05-10T00:42:45.805Z"
   },
   {
    "duration": 18,
    "start_time": "2023-05-10T00:42:45.817Z"
   },
   {
    "duration": 15,
    "start_time": "2023-05-10T00:42:45.837Z"
   },
   {
    "duration": 1833,
    "start_time": "2023-05-10T00:42:45.853Z"
   },
   {
    "duration": 7,
    "start_time": "2023-05-10T00:42:47.687Z"
   },
   {
    "duration": 7,
    "start_time": "2023-05-10T00:42:47.696Z"
   },
   {
    "duration": 6,
    "start_time": "2023-05-10T00:42:47.704Z"
   },
   {
    "duration": 5,
    "start_time": "2023-05-10T00:45:30.285Z"
   },
   {
    "duration": 6,
    "start_time": "2023-05-10T00:45:40.103Z"
   },
   {
    "duration": 4,
    "start_time": "2023-05-10T00:47:21.485Z"
   },
   {
    "duration": 568,
    "start_time": "2023-05-10T00:47:22.337Z"
   },
   {
    "duration": 8,
    "start_time": "2023-05-10T00:47:27.642Z"
   },
   {
    "duration": 4,
    "start_time": "2023-05-10T00:47:29.574Z"
   },
   {
    "duration": 5,
    "start_time": "2023-05-10T00:47:30.053Z"
   },
   {
    "duration": 3,
    "start_time": "2023-05-10T00:47:54.673Z"
   },
   {
    "duration": 1177,
    "start_time": "2023-05-10T00:47:56.267Z"
   },
   {
    "duration": 3,
    "start_time": "2023-05-10T00:48:04.159Z"
   },
   {
    "duration": 1847,
    "start_time": "2023-05-10T00:48:06.671Z"
   },
   {
    "duration": 7,
    "start_time": "2023-05-10T00:48:42.299Z"
   },
   {
    "duration": 5,
    "start_time": "2023-05-10T00:48:43.327Z"
   },
   {
    "duration": 4,
    "start_time": "2023-05-10T00:48:43.684Z"
   },
   {
    "duration": 1094,
    "start_time": "2023-05-10T00:55:00.513Z"
   },
   {
    "duration": 390,
    "start_time": "2023-05-10T00:55:01.609Z"
   },
   {
    "duration": 1031,
    "start_time": "2023-05-10T00:55:02.000Z"
   },
   {
    "duration": 597,
    "start_time": "2023-05-10T00:55:03.033Z"
   },
   {
    "duration": 24,
    "start_time": "2023-05-10T00:55:03.632Z"
   },
   {
    "duration": 40,
    "start_time": "2023-05-10T00:55:03.657Z"
   },
   {
    "duration": 138,
    "start_time": "2023-05-10T00:55:03.699Z"
   },
   {
    "duration": 4,
    "start_time": "2023-05-10T00:55:03.838Z"
   },
   {
    "duration": 67,
    "start_time": "2023-05-10T00:55:03.844Z"
   },
   {
    "duration": 28,
    "start_time": "2023-05-10T00:55:03.914Z"
   },
   {
    "duration": 106,
    "start_time": "2023-05-10T00:55:04.035Z"
   },
   {
    "duration": 197,
    "start_time": "2023-05-10T00:55:04.143Z"
   },
   {
    "duration": 191,
    "start_time": "2023-05-10T00:55:04.342Z"
   },
   {
    "duration": 4,
    "start_time": "2023-05-10T00:55:04.537Z"
   },
   {
    "duration": 24,
    "start_time": "2023-05-10T00:55:04.543Z"
   },
   {
    "duration": 14,
    "start_time": "2023-05-10T00:55:04.568Z"
   },
   {
    "duration": 7,
    "start_time": "2023-05-10T00:55:04.583Z"
   },
   {
    "duration": 8,
    "start_time": "2023-05-10T00:55:04.592Z"
   },
   {
    "duration": 11,
    "start_time": "2023-05-10T00:55:04.601Z"
   },
   {
    "duration": 6,
    "start_time": "2023-05-10T00:55:04.614Z"
   },
   {
    "duration": 6,
    "start_time": "2023-05-10T00:55:04.622Z"
   },
   {
    "duration": 1848,
    "start_time": "2023-05-10T00:55:04.630Z"
   },
   {
    "duration": 9,
    "start_time": "2023-05-10T00:55:06.479Z"
   },
   {
    "duration": 6,
    "start_time": "2023-05-10T00:55:06.489Z"
   },
   {
    "duration": 6,
    "start_time": "2023-05-10T00:55:06.496Z"
   },
   {
    "duration": 1908,
    "start_time": "2023-05-10T00:55:06.503Z"
   },
   {
    "duration": 7,
    "start_time": "2023-05-10T00:55:08.413Z"
   },
   {
    "duration": 12,
    "start_time": "2023-05-10T00:55:08.422Z"
   },
   {
    "duration": 9,
    "start_time": "2023-05-10T00:55:08.436Z"
   },
   {
    "duration": 2039,
    "start_time": "2023-05-10T00:55:08.446Z"
   },
   {
    "duration": 8,
    "start_time": "2023-05-10T00:55:10.486Z"
   },
   {
    "duration": 23,
    "start_time": "2023-05-10T00:55:10.495Z"
   },
   {
    "duration": 16,
    "start_time": "2023-05-10T00:55:10.520Z"
   },
   {
    "duration": 129,
    "start_time": "2023-05-10T00:56:41.232Z"
   },
   {
    "duration": 3,
    "start_time": "2023-05-10T00:58:08.400Z"
   },
   {
    "duration": 611,
    "start_time": "2023-05-10T00:58:09.742Z"
   },
   {
    "duration": 8,
    "start_time": "2023-05-10T00:58:19.474Z"
   },
   {
    "duration": 4,
    "start_time": "2023-05-10T00:58:21.629Z"
   },
   {
    "duration": 1145,
    "start_time": "2023-05-10T00:58:28.109Z"
   },
   {
    "duration": 160,
    "start_time": "2023-05-10T00:58:29.255Z"
   },
   {
    "duration": 147,
    "start_time": "2023-05-10T00:58:29.416Z"
   },
   {
    "duration": 136,
    "start_time": "2023-05-10T00:58:29.564Z"
   },
   {
    "duration": 31,
    "start_time": "2023-05-10T00:58:29.702Z"
   },
   {
    "duration": 43,
    "start_time": "2023-05-10T00:58:29.735Z"
   },
   {
    "duration": 135,
    "start_time": "2023-05-10T00:58:29.779Z"
   },
   {
    "duration": 4,
    "start_time": "2023-05-10T00:58:29.915Z"
   },
   {
    "duration": 65,
    "start_time": "2023-05-10T00:58:29.921Z"
   },
   {
    "duration": 53,
    "start_time": "2023-05-10T00:58:29.988Z"
   },
   {
    "duration": 115,
    "start_time": "2023-05-10T00:58:30.043Z"
   },
   {
    "duration": 174,
    "start_time": "2023-05-10T00:58:30.161Z"
   },
   {
    "duration": 4,
    "start_time": "2023-05-10T00:58:30.337Z"
   },
   {
    "duration": 33,
    "start_time": "2023-05-10T00:58:30.433Z"
   },
   {
    "duration": 73,
    "start_time": "2023-05-10T00:58:30.468Z"
   },
   {
    "duration": 57,
    "start_time": "2023-05-10T00:58:30.543Z"
   },
   {
    "duration": 34,
    "start_time": "2023-05-10T00:58:30.602Z"
   },
   {
    "duration": 28,
    "start_time": "2023-05-10T00:58:30.639Z"
   },
   {
    "duration": 67,
    "start_time": "2023-05-10T00:58:30.669Z"
   },
   {
    "duration": 37,
    "start_time": "2023-05-10T00:58:30.738Z"
   },
   {
    "duration": 36,
    "start_time": "2023-05-10T00:58:30.776Z"
   },
   {
    "duration": 624,
    "start_time": "2023-05-10T00:58:30.814Z"
   },
   {
    "duration": 9,
    "start_time": "2023-05-10T00:58:31.440Z"
   },
   {
    "duration": 15,
    "start_time": "2023-05-10T00:58:31.451Z"
   },
   {
    "duration": 14,
    "start_time": "2023-05-10T00:58:31.468Z"
   },
   {
    "duration": 1015,
    "start_time": "2023-05-10T00:58:31.483Z"
   },
   {
    "duration": 8,
    "start_time": "2023-05-10T00:58:32.500Z"
   },
   {
    "duration": 17,
    "start_time": "2023-05-10T00:58:32.510Z"
   },
   {
    "duration": 19,
    "start_time": "2023-05-10T00:58:32.528Z"
   },
   {
    "duration": 1061,
    "start_time": "2023-05-10T00:58:32.548Z"
   },
   {
    "duration": 8,
    "start_time": "2023-05-10T00:58:33.610Z"
   },
   {
    "duration": 20,
    "start_time": "2023-05-10T00:58:33.619Z"
   },
   {
    "duration": 29,
    "start_time": "2023-05-10T00:58:33.640Z"
   },
   {
    "duration": 587,
    "start_time": "2023-05-10T00:58:37.698Z"
   },
   {
    "duration": 698,
    "start_time": "2023-05-10T00:58:45.391Z"
   },
   {
    "duration": 9,
    "start_time": "2023-05-10T00:58:46.800Z"
   },
   {
    "duration": 5,
    "start_time": "2023-05-10T00:58:47.252Z"
   },
   {
    "duration": 5,
    "start_time": "2023-05-10T00:58:47.465Z"
   },
   {
    "duration": 1053,
    "start_time": "2023-05-10T00:58:53.642Z"
   },
   {
    "duration": 157,
    "start_time": "2023-05-10T00:58:54.697Z"
   },
   {
    "duration": 136,
    "start_time": "2023-05-10T00:58:54.856Z"
   },
   {
    "duration": 150,
    "start_time": "2023-05-10T00:58:54.994Z"
   },
   {
    "duration": 24,
    "start_time": "2023-05-10T00:58:55.146Z"
   },
   {
    "duration": 33,
    "start_time": "2023-05-10T00:58:55.172Z"
   },
   {
    "duration": 129,
    "start_time": "2023-05-10T00:58:55.206Z"
   },
   {
    "duration": 3,
    "start_time": "2023-05-10T00:58:55.336Z"
   },
   {
    "duration": 73,
    "start_time": "2023-05-10T00:58:55.341Z"
   },
   {
    "duration": 21,
    "start_time": "2023-05-10T00:58:55.417Z"
   },
   {
    "duration": 199,
    "start_time": "2023-05-10T00:58:55.440Z"
   },
   {
    "duration": 194,
    "start_time": "2023-05-10T00:58:55.643Z"
   },
   {
    "duration": 3,
    "start_time": "2023-05-10T00:58:55.933Z"
   },
   {
    "duration": 6,
    "start_time": "2023-05-10T00:58:55.937Z"
   },
   {
    "duration": 6,
    "start_time": "2023-05-10T00:58:55.944Z"
   },
   {
    "duration": 4,
    "start_time": "2023-05-10T00:58:55.951Z"
   },
   {
    "duration": 13,
    "start_time": "2023-05-10T00:58:55.957Z"
   },
   {
    "duration": 7,
    "start_time": "2023-05-10T00:58:55.971Z"
   },
   {
    "duration": 6,
    "start_time": "2023-05-10T00:58:55.979Z"
   },
   {
    "duration": 5,
    "start_time": "2023-05-10T00:58:55.987Z"
   },
   {
    "duration": 9,
    "start_time": "2023-05-10T00:58:55.993Z"
   },
   {
    "duration": 702,
    "start_time": "2023-05-10T00:58:56.004Z"
   },
   {
    "duration": 10,
    "start_time": "2023-05-10T00:58:56.708Z"
   },
   {
    "duration": 17,
    "start_time": "2023-05-10T00:58:56.719Z"
   },
   {
    "duration": 8,
    "start_time": "2023-05-10T00:58:56.737Z"
   },
   {
    "duration": 597,
    "start_time": "2023-05-10T00:58:56.746Z"
   },
   {
    "duration": 7,
    "start_time": "2023-05-10T00:58:57.345Z"
   },
   {
    "duration": 4,
    "start_time": "2023-05-10T00:58:57.354Z"
   },
   {
    "duration": 6,
    "start_time": "2023-05-10T00:58:57.360Z"
   },
   {
    "duration": 600,
    "start_time": "2023-05-10T00:58:57.367Z"
   },
   {
    "duration": 8,
    "start_time": "2023-05-10T00:58:57.969Z"
   },
   {
    "duration": 9,
    "start_time": "2023-05-10T00:58:57.978Z"
   },
   {
    "duration": 11,
    "start_time": "2023-05-10T00:58:57.988Z"
   },
   {
    "duration": 146,
    "start_time": "2023-05-10T01:01:25.897Z"
   },
   {
    "duration": 1110,
    "start_time": "2023-05-10T01:01:31.570Z"
   },
   {
    "duration": 167,
    "start_time": "2023-05-10T01:01:32.682Z"
   },
   {
    "duration": 143,
    "start_time": "2023-05-10T01:01:32.851Z"
   },
   {
    "duration": 154,
    "start_time": "2023-05-10T01:01:32.997Z"
   },
   {
    "duration": 30,
    "start_time": "2023-05-10T01:01:33.153Z"
   },
   {
    "duration": 64,
    "start_time": "2023-05-10T01:01:33.185Z"
   },
   {
    "duration": 133,
    "start_time": "2023-05-10T01:01:33.251Z"
   },
   {
    "duration": 4,
    "start_time": "2023-05-10T01:01:33.385Z"
   },
   {
    "duration": 85,
    "start_time": "2023-05-10T01:01:33.390Z"
   },
   {
    "duration": 69,
    "start_time": "2023-05-10T01:01:33.477Z"
   },
   {
    "duration": 111,
    "start_time": "2023-05-10T01:01:33.548Z"
   },
   {
    "duration": 84,
    "start_time": "2023-05-10T01:01:33.663Z"
   },
   {
    "duration": 87,
    "start_time": "2023-05-10T01:01:33.749Z"
   },
   {
    "duration": 98,
    "start_time": "2023-05-10T01:01:33.838Z"
   },
   {
    "duration": 24,
    "start_time": "2023-05-10T01:01:33.939Z"
   },
   {
    "duration": 7,
    "start_time": "2023-05-10T01:01:33.964Z"
   },
   {
    "duration": 6,
    "start_time": "2023-05-10T01:01:33.973Z"
   },
   {
    "duration": 12,
    "start_time": "2023-05-10T01:01:33.980Z"
   },
   {
    "duration": 6,
    "start_time": "2023-05-10T01:01:33.994Z"
   },
   {
    "duration": 7,
    "start_time": "2023-05-10T01:01:34.001Z"
   },
   {
    "duration": 13,
    "start_time": "2023-05-10T01:01:34.009Z"
   },
   {
    "duration": 644,
    "start_time": "2023-05-10T01:01:34.023Z"
   },
   {
    "duration": 8,
    "start_time": "2023-05-10T01:01:34.669Z"
   },
   {
    "duration": 15,
    "start_time": "2023-05-10T01:01:34.679Z"
   },
   {
    "duration": 21,
    "start_time": "2023-05-10T01:01:34.695Z"
   },
   {
    "duration": 683,
    "start_time": "2023-05-10T01:01:34.717Z"
   },
   {
    "duration": 7,
    "start_time": "2023-05-10T01:01:35.401Z"
   },
   {
    "duration": 37,
    "start_time": "2023-05-10T01:01:35.410Z"
   },
   {
    "duration": 7,
    "start_time": "2023-05-10T01:01:35.449Z"
   },
   {
    "duration": 627,
    "start_time": "2023-05-10T01:01:35.458Z"
   },
   {
    "duration": 7,
    "start_time": "2023-05-10T01:01:36.086Z"
   },
   {
    "duration": 8,
    "start_time": "2023-05-10T01:01:36.095Z"
   },
   {
    "duration": 11,
    "start_time": "2023-05-10T01:01:36.104Z"
   }
  ],
  "kernelspec": {
   "display_name": "Python 3 (ipykernel)",
   "language": "python",
   "name": "python3"
  },
  "language_info": {
   "codemirror_mode": {
    "name": "ipython",
    "version": 3
   },
   "file_extension": ".py",
   "mimetype": "text/x-python",
   "name": "python",
   "nbconvert_exporter": "python",
   "pygments_lexer": "ipython3",
   "version": "3.9.5"
  },
  "toc": {
   "base_numbering": 1,
   "nav_menu": {},
   "number_sections": true,
   "sideBar": true,
   "skip_h1_title": true,
   "title_cell": "Table of Contents",
   "title_sidebar": "Contents",
   "toc_cell": false,
   "toc_position": {},
   "toc_section_display": true,
   "toc_window_display": false
  }
 },
 "nbformat": 4,
 "nbformat_minor": 2
}
